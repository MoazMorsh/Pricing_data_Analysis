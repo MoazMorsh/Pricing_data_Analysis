{
 "cells": [
  {
   "cell_type": "markdown",
   "metadata": {},
   "source": [
    "# Pricing Data Analyst Intern Task"
   ]
  },
  {
   "cell_type": "markdown",
   "metadata": {},
   "source": [
    "### Import necessary libraries"
   ]
  },
  {
   "cell_type": "code",
   "execution_count": 121,
   "metadata": {},
   "outputs": [],
   "source": [
    "import pandas as pd\n",
    "from sklearn.linear_model import LinearRegression\n",
    "from sklearn.metrics import mean_absolute_error\n",
    "from datetime import datetime\n",
    "import pandasql as psql\n",
    "from scipy import stats\n",
    "import numpy as np"
   ]
  },
  {
   "cell_type": "markdown",
   "metadata": {},
   "source": [
    "### Read Excel Sheets"
   ]
  },
  {
   "cell_type": "code",
   "execution_count": 88,
   "metadata": {},
   "outputs": [],
   "source": [
    "Orders = pd.read_excel(\"Data.xlsx\", sheet_name='Sales_orders')\n",
    "Cogs = pd.read_excel(\"Data.xlsx\", sheet_name='Cost_of_Goods')\n",
    "product = pd.read_excel(\"Data.xlsx\", sheet_name='Product_sales_order')"
   ]
  },
  {
   "cell_type": "markdown",
   "metadata": {},
   "source": [
    "## Clean Up Data"
   ]
  },
  {
   "cell_type": "markdown",
   "metadata": {},
   "source": [
    "### Check for NAN"
   ]
  },
  {
   "cell_type": "code",
   "execution_count": 89,
   "metadata": {},
   "outputs": [
    {
     "data": {
      "text/html": [
       "<div>\n",
       "<style scoped>\n",
       "    .dataframe tbody tr th:only-of-type {\n",
       "        vertical-align: middle;\n",
       "    }\n",
       "\n",
       "    .dataframe tbody tr th {\n",
       "        vertical-align: top;\n",
       "    }\n",
       "\n",
       "    .dataframe thead th {\n",
       "        text-align: right;\n",
       "    }\n",
       "</style>\n",
       "<table border=\"1\" class=\"dataframe\">\n",
       "  <thead>\n",
       "    <tr style=\"text-align: right;\">\n",
       "      <th></th>\n",
       "      <th>ORDER_ID</th>\n",
       "      <th>DATE</th>\n",
       "      <th>DAY_NAME</th>\n",
       "      <th>Order_status</th>\n",
       "      <th>SALES</th>\n",
       "    </tr>\n",
       "  </thead>\n",
       "  <tbody>\n",
       "    <tr>\n",
       "      <th>0</th>\n",
       "      <td>6387833</td>\n",
       "      <td>2023-10-01</td>\n",
       "      <td>Sun</td>\n",
       "      <td>Delivered</td>\n",
       "      <td>285.50</td>\n",
       "    </tr>\n",
       "    <tr>\n",
       "      <th>1</th>\n",
       "      <td>6385549</td>\n",
       "      <td>2023-10-01</td>\n",
       "      <td>Sun</td>\n",
       "      <td>Delivered</td>\n",
       "      <td>1512.25</td>\n",
       "    </tr>\n",
       "    <tr>\n",
       "      <th>2</th>\n",
       "      <td>6387475</td>\n",
       "      <td>2023-10-01</td>\n",
       "      <td>Sun</td>\n",
       "      <td>Delivered</td>\n",
       "      <td>197.50</td>\n",
       "    </tr>\n",
       "    <tr>\n",
       "      <th>3</th>\n",
       "      <td>6389331</td>\n",
       "      <td>2023-10-01</td>\n",
       "      <td>Sun</td>\n",
       "      <td>Delivered</td>\n",
       "      <td>67.50</td>\n",
       "    </tr>\n",
       "    <tr>\n",
       "      <th>4</th>\n",
       "      <td>6390122</td>\n",
       "      <td>2023-10-01</td>\n",
       "      <td>Sun</td>\n",
       "      <td>Delivered</td>\n",
       "      <td>118.00</td>\n",
       "    </tr>\n",
       "  </tbody>\n",
       "</table>\n",
       "</div>"
      ],
      "text/plain": [
       "   ORDER_ID       DATE DAY_NAME Order_status    SALES\n",
       "0   6387833 2023-10-01      Sun    Delivered   285.50\n",
       "1   6385549 2023-10-01      Sun    Delivered  1512.25\n",
       "2   6387475 2023-10-01      Sun    Delivered   197.50\n",
       "3   6389331 2023-10-01      Sun    Delivered    67.50\n",
       "4   6390122 2023-10-01      Sun    Delivered   118.00"
      ]
     },
     "execution_count": 89,
     "metadata": {},
     "output_type": "execute_result"
    }
   ],
   "source": [
    "Orders_NAN = Orders[Orders.isna().any(axis=1)]\n",
    "Orders_NAN\n",
    "\n",
    "Orders_drop_NAN = Orders.dropna()\n",
    "Orders_drop_NAN.head()\n"
   ]
  },
  {
   "cell_type": "markdown",
   "metadata": {},
   "source": [
    "### Check for duplicates"
   ]
  },
  {
   "cell_type": "markdown",
   "metadata": {},
   "source": [
    "#### There is no duplicated rows"
   ]
  },
  {
   "cell_type": "markdown",
   "metadata": {},
   "source": [
    "### Handle Outliers"
   ]
  },
  {
   "cell_type": "code",
   "execution_count": null,
   "metadata": {},
   "outputs": [],
   "source": [
    "excel_file = 'path_to_your_excel_file.xlsx'\n",
    "sheets_dict = pd.read_excel(excel_file, sheet_name=None)\n",
    "def remove_outliers_iqr(df):\n",
    "    \"\"\"\n",
    "    Removes outliers from a DataFrame using the IQR method.\n",
    "    \"\"\"\n",
    "    Q1 = df.quantile(0.25)\n",
    "    Q3 = df.quantile(0.75)\n",
    "    IQR = Q3 - Q1\n",
    "    is_not_outlier = ~((df < (Q1 - 1.5 * IQR)) | (df > (Q3 + 1.5 * IQR)))\n",
    "    return df[is_not_outlier.all(axis=1)]\n",
    "\n",
    "cleaned_sheets_dict = {sheet: remove_outliers_iqr(df) for sheet, df in sheets_dict.items()}"
   ]
  },
  {
   "cell_type": "markdown",
   "metadata": {},
   "source": [
    "### Handle The Negative Values In The ['purchase_price']"
   ]
  },
  {
   "cell_type": "code",
   "execution_count": 90,
   "metadata": {},
   "outputs": [
    {
     "data": {
      "text/html": [
       "<div>\n",
       "<style scoped>\n",
       "    .dataframe tbody tr th:only-of-type {\n",
       "        vertical-align: middle;\n",
       "    }\n",
       "\n",
       "    .dataframe tbody tr th {\n",
       "        vertical-align: top;\n",
       "    }\n",
       "\n",
       "    .dataframe thead th {\n",
       "        text-align: right;\n",
       "    }\n",
       "</style>\n",
       "<table border=\"1\" class=\"dataframe\">\n",
       "  <thead>\n",
       "    <tr style=\"text-align: right;\">\n",
       "      <th></th>\n",
       "      <th>product_id</th>\n",
       "      <th>purchase_price</th>\n",
       "      <th>selling_price</th>\n",
       "      <th>Flagged</th>\n",
       "    </tr>\n",
       "  </thead>\n",
       "  <tbody>\n",
       "    <tr>\n",
       "      <th>7</th>\n",
       "      <td>361</td>\n",
       "      <td>-200.0</td>\n",
       "      <td>189.75</td>\n",
       "      <td>True</td>\n",
       "    </tr>\n",
       "  </tbody>\n",
       "</table>\n",
       "</div>"
      ],
      "text/plain": [
       "   product_id  purchase_price  selling_price  Flagged\n",
       "7         361          -200.0         189.75     True"
      ]
     },
     "execution_count": 90,
     "metadata": {},
     "output_type": "execute_result"
    }
   ],
   "source": [
    "#There is only one row that contains a negative value in the ['purchase_price]\n",
    "\n",
    "#Add Flaged column to check if there are any negative values in the ['purchase_price']\n",
    "Cogs['Flagged'] = Cogs['purchase_price'] < 0\n",
    "Cogs[Cogs['Flagged']]\n"
   ]
  },
  {
   "cell_type": "code",
   "execution_count": 91,
   "metadata": {},
   "outputs": [],
   "source": [
    "\"\"\"My recommendation, because it's only one row that it contains a negative value and it seems as it's an entry error;\n",
    "so i will handle it by removing the negative sign\"\"\"\n",
    "\n",
    "Cogs['purchase_price'] = Cogs['purchase_price'].abs()"
   ]
  },
  {
   "cell_type": "markdown",
   "metadata": {},
   "source": [
    "### Working On Given Dataset1 (Sales_orders)"
   ]
  },
  {
   "cell_type": "code",
   "execution_count": 92,
   "metadata": {},
   "outputs": [
    {
     "data": {
      "text/html": [
       "<div>\n",
       "<style scoped>\n",
       "    .dataframe tbody tr th:only-of-type {\n",
       "        vertical-align: middle;\n",
       "    }\n",
       "\n",
       "    .dataframe tbody tr th {\n",
       "        vertical-align: top;\n",
       "    }\n",
       "\n",
       "    .dataframe thead th {\n",
       "        text-align: right;\n",
       "    }\n",
       "</style>\n",
       "<table border=\"1\" class=\"dataframe\">\n",
       "  <thead>\n",
       "    <tr style=\"text-align: right;\">\n",
       "      <th></th>\n",
       "      <th>ORDER_ID</th>\n",
       "      <th>DATE</th>\n",
       "      <th>DAY_NAME</th>\n",
       "      <th>Order_status</th>\n",
       "      <th>SALES</th>\n",
       "    </tr>\n",
       "  </thead>\n",
       "  <tbody>\n",
       "    <tr>\n",
       "      <th>0</th>\n",
       "      <td>6387833</td>\n",
       "      <td>2023-10-01</td>\n",
       "      <td>Sun</td>\n",
       "      <td>Delivered</td>\n",
       "      <td>285.50</td>\n",
       "    </tr>\n",
       "    <tr>\n",
       "      <th>1</th>\n",
       "      <td>6385549</td>\n",
       "      <td>2023-10-01</td>\n",
       "      <td>Sun</td>\n",
       "      <td>Delivered</td>\n",
       "      <td>1512.25</td>\n",
       "    </tr>\n",
       "    <tr>\n",
       "      <th>2</th>\n",
       "      <td>6387475</td>\n",
       "      <td>2023-10-01</td>\n",
       "      <td>Sun</td>\n",
       "      <td>Delivered</td>\n",
       "      <td>197.50</td>\n",
       "    </tr>\n",
       "    <tr>\n",
       "      <th>3</th>\n",
       "      <td>6389331</td>\n",
       "      <td>2023-10-01</td>\n",
       "      <td>Sun</td>\n",
       "      <td>Delivered</td>\n",
       "      <td>67.50</td>\n",
       "    </tr>\n",
       "    <tr>\n",
       "      <th>4</th>\n",
       "      <td>6390122</td>\n",
       "      <td>2023-10-01</td>\n",
       "      <td>Sun</td>\n",
       "      <td>Delivered</td>\n",
       "      <td>118.00</td>\n",
       "    </tr>\n",
       "    <tr>\n",
       "      <th>...</th>\n",
       "      <td>...</td>\n",
       "      <td>...</td>\n",
       "      <td>...</td>\n",
       "      <td>...</td>\n",
       "      <td>...</td>\n",
       "    </tr>\n",
       "    <tr>\n",
       "      <th>17158</th>\n",
       "      <td>6509124</td>\n",
       "      <td>2023-10-21</td>\n",
       "      <td>Sat</td>\n",
       "      <td>Delivered</td>\n",
       "      <td>240.00</td>\n",
       "    </tr>\n",
       "    <tr>\n",
       "      <th>17159</th>\n",
       "      <td>6508933</td>\n",
       "      <td>2023-10-21</td>\n",
       "      <td>Sat</td>\n",
       "      <td>Delivered</td>\n",
       "      <td>266.25</td>\n",
       "    </tr>\n",
       "    <tr>\n",
       "      <th>17160</th>\n",
       "      <td>6503473</td>\n",
       "      <td>2023-10-21</td>\n",
       "      <td>Sat</td>\n",
       "      <td>Delivered</td>\n",
       "      <td>418.00</td>\n",
       "    </tr>\n",
       "    <tr>\n",
       "      <th>17161</th>\n",
       "      <td>6503157</td>\n",
       "      <td>2023-10-21</td>\n",
       "      <td>Sat</td>\n",
       "      <td>Delivered</td>\n",
       "      <td>746.25</td>\n",
       "    </tr>\n",
       "    <tr>\n",
       "      <th>17162</th>\n",
       "      <td>6508369</td>\n",
       "      <td>2023-10-21</td>\n",
       "      <td>Sat</td>\n",
       "      <td>Delivered</td>\n",
       "      <td>377.50</td>\n",
       "    </tr>\n",
       "  </tbody>\n",
       "</table>\n",
       "<p>17163 rows × 5 columns</p>\n",
       "</div>"
      ],
      "text/plain": [
       "       ORDER_ID       DATE DAY_NAME Order_status    SALES\n",
       "0       6387833 2023-10-01      Sun    Delivered   285.50\n",
       "1       6385549 2023-10-01      Sun    Delivered  1512.25\n",
       "2       6387475 2023-10-01      Sun    Delivered   197.50\n",
       "3       6389331 2023-10-01      Sun    Delivered    67.50\n",
       "4       6390122 2023-10-01      Sun    Delivered   118.00\n",
       "...         ...        ...      ...          ...      ...\n",
       "17158   6509124 2023-10-21      Sat    Delivered   240.00\n",
       "17159   6508933 2023-10-21      Sat    Delivered   266.25\n",
       "17160   6503473 2023-10-21      Sat    Delivered   418.00\n",
       "17161   6503157 2023-10-21      Sat    Delivered   746.25\n",
       "17162   6508369 2023-10-21      Sat    Delivered   377.50\n",
       "\n",
       "[17163 rows x 5 columns]"
      ]
     },
     "execution_count": 92,
     "metadata": {},
     "output_type": "execute_result"
    }
   ],
   "source": [
    "Orders"
   ]
  },
  {
   "cell_type": "markdown",
   "metadata": {},
   "source": [
    "#### Q1 → calculate total sales (delivered orders only) per day"
   ]
  },
  {
   "cell_type": "code",
   "execution_count": 93,
   "metadata": {},
   "outputs": [
    {
     "data": {
      "text/plain": [
       "DATE\n",
       "2023-10-01    3.708723e+05\n",
       "2023-10-02    3.205579e+05\n",
       "2023-10-03    4.498487e+05\n",
       "2023-10-04    4.379692e+05\n",
       "2023-10-05    2.256661e+05\n",
       "2023-10-06   -9.771947e+06\n",
       "2023-10-07    3.427147e+05\n",
       "2023-10-08    3.936270e+05\n",
       "2023-10-09    3.136172e+05\n",
       "2023-10-10    2.758301e+05\n",
       "2023-10-11    3.247948e+05\n",
       "2023-10-12    2.340569e+05\n",
       "2023-10-13    1.738548e+05\n",
       "2023-10-14    2.777956e+05\n",
       "2023-10-15    2.642121e+05\n",
       "2023-10-16    2.909430e+05\n",
       "2023-10-17    2.322276e+05\n",
       "2023-10-18    2.983172e+05\n",
       "2023-10-19    2.543309e+05\n",
       "2023-10-20    2.035265e+05\n",
       "2023-10-21    2.818321e+05\n",
       "Name: SALES, dtype: float64"
      ]
     },
     "execution_count": 93,
     "metadata": {},
     "output_type": "execute_result"
    }
   ],
   "source": [
    "filtered_sales = Orders[(Orders['Order_status'] == 'Delivered')]\n",
    "\n",
    "grouped_sales = filtered_sales.groupby('DATE')['SALES'].sum()\n",
    "\n",
    "grouped_sales"
   ]
  },
  {
   "cell_type": "markdown",
   "metadata": {},
   "source": [
    "#### Q2 → Given the 3 weeks of data from sales orders predict the 4th-week (from 22nd to 28th of October) total sales (delivered only)."
   ]
  },
  {
   "cell_type": "code",
   "execution_count": 112,
   "metadata": {},
   "outputs": [
    {
     "name": "stdout",
     "output_type": "stream",
     "text": [
      "NaN values found in historical_data['SALES'] at indices: Index([29], dtype='int64')\n",
      "Predicted sales for the 4th week:\n",
      "2023-10-22: 583.9579236581922\n",
      "2023-10-23: 650.2610296010971\n",
      "2023-10-24: 716.564135544002\n",
      "2023-10-25: 782.8672414794564\n",
      "2023-10-26: 849.1703474223614\n",
      "2023-10-27: 915.4734533652663\n",
      "2023-10-28: 981.7765593081713\n"
     ]
    }
   ],
   "source": [
    "# Ensure 'date' column is in datetime format\n",
    "Orders['DATE'] = pd.to_datetime(Orders['DATE'])\n",
    "\n",
    "# Filter to include only the relevant dates for the first 3 weeks\n",
    "historical_data = Orders[Orders['DATE'] < '2023-10-22'].copy()\n",
    "\n",
    "# Check for NaN values in 'SALES' column\n",
    "nan_indices = historical_data['SALES'].index[historical_data['SALES'].isna()]\n",
    "print(f\"NaN values found in historical_data['SALES'] at indices: {nan_indices}\")\n",
    "\n",
    "# Drop rows with NaN values from historical_data\n",
    "historical_data.drop(index=nan_indices, inplace=True)\n",
    "\n",
    "# Prepare training data\n",
    "X_train = historical_data['DATE'].apply(lambda x: x.toordinal()).values.reshape(-1, 1)\n",
    "y_train = historical_data['SALES']\n",
    "\n",
    "# Fit the model\n",
    "model = LinearRegression()\n",
    "model.fit(X_train, y_train)\n",
    "\n",
    "# Predict sales for the 4th week\n",
    "week_4_start = datetime.strptime('2023-10-22', '%Y-%m-%d')\n",
    "week_4_end = datetime.strptime('2023-10-28', '%Y-%m-%d')\n",
    "X_test = pd.date_range(start=week_4_start, end=week_4_end, freq='D')\n",
    "X_test_ordinal = X_test.to_series().apply(lambda x: x.toordinal()).values.reshape(-1, 1)\n",
    "\n",
    "predicted_sales = model.predict(X_test_ordinal)\n",
    "\n",
    "# Print or use predicted_sales\n",
    "print(\"Predicted sales for the 4th week:\")\n",
    "for date, sales in zip(X_test, predicted_sales):\n",
    "    print(f\"{date.date()}: {sales}\")\n"
   ]
  },
  {
   "cell_type": "markdown",
   "metadata": {},
   "source": [
    "#### Q3 → Based on your prediction in the previous question, what will be the contribution of Wednesday and Friday in the 4th week (from 22nd to 28th of October)."
   ]
  },
  {
   "cell_type": "code",
   "execution_count": 114,
   "metadata": {},
   "outputs": [
    {
     "name": "stdout",
     "output_type": "stream",
     "text": [
      "Wednesday's predicted sales: 782.8672414794564\n",
      "Friday's predicted sales: 915.4734533652663\n",
      "Total predicted sales for the week: 5480.070690378547\n",
      "Wednesday's contribution: 14.29%\n",
      "Friday's contribution: 16.71%\n"
     ]
    }
   ],
   "source": [
    "# Create a DataFrame for the predicted sales\n",
    "predicted_sales = pd.DataFrame({'DATE': X_test, 'PREDICTED_SALES': predicted_sales})\n",
    "\n",
    "# Calculate the contribution of Wednesday (2023-10-25) and Friday (2023-10-27)\n",
    "wednesday_sales = predicted_sales[predicted_sales['DATE'] == '2023-10-25']['PREDICTED_SALES'].values[0]\n",
    "friday_sales = predicted_sales[predicted_sales['DATE'] == '2023-10-27']['PREDICTED_SALES'].values[0]\n",
    "total_sales = predicted_sales['PREDICTED_SALES'].sum()\n",
    "\n",
    "# Contribution of Wednesday and Friday\n",
    "wednesday_contribution = (wednesday_sales / total_sales) * 100\n",
    "friday_contribution = (friday_sales / total_sales) * 100\n",
    "\n",
    "print(f\"Wednesday's predicted sales: {wednesday_sales}\")\n",
    "print(f\"Friday's predicted sales: {friday_sales}\")\n",
    "print(f\"Total predicted sales for the week: {total_sales}\")\n",
    "\n",
    "print(f\"Wednesday's contribution: {wednesday_contribution:.2f}%\")\n",
    "print(f\"Friday's contribution: {friday_contribution:.2f}%\")"
   ]
  },
  {
   "cell_type": "markdown",
   "metadata": {},
   "source": [
    "#### Q4 → Based on the 4 weeks of data, Which week has the highest sales and which day is usually the highest per week in terms of sales (delivered only)"
   ]
  },
  {
   "cell_type": "code",
   "execution_count": 115,
   "metadata": {},
   "outputs": [
    {
     "name": "stdout",
     "output_type": "stream",
     "text": [
      "Weekly Sales Summary:\n",
      "   WEEK         SALES\n",
      "0    39  4.036020e+05\n",
      "1    40 -7.376878e+06\n",
      "2    41  2.083224e+06\n",
      "3    42  1.699983e+06\n",
      "\n",
      "Week with Highest Sales:\n",
      "Week: 41.0, Sales: 2083223.9403\n",
      "\n",
      "Daily Sales Summary:\n",
      "  DAY_OF_WEEK         SALES\n",
      "0      Friday -9.345287e+06\n",
      "1      Monday  1.024110e+06\n",
      "2    Saturday  9.814411e+05\n",
      "3      Sunday  1.115708e+06\n",
      "4    Thursday  7.871651e+05\n",
      "5     Tuesday  1.060926e+06\n",
      "6   Wednesday  1.185868e+06\n",
      "\n",
      "Day with Highest Sales:\n",
      "Day: Wednesday, Sales: 1185868.2535\n"
     ]
    }
   ],
   "source": [
    "# Add 'WEEK' and 'DAY_OF_WEEK' columns\n",
    "Orders['WEEK'] = Orders['DATE'].dt.isocalendar().week\n",
    "Orders['DAY_OF_WEEK'] = Orders['DATE'].dt.day_name()\n",
    "\n",
    "# Aggregate sales by week\n",
    "weekly_sales = Orders.groupby('WEEK')['SALES'].sum().reset_index()\n",
    "highest_sales_week = weekly_sales.loc[weekly_sales['SALES'].idxmax()]\n",
    "\n",
    "# Aggregate sales by day of the week\n",
    "daily_sales = Orders.groupby('DAY_OF_WEEK')['SALES'].sum().reset_index()\n",
    "highest_sales_day = daily_sales.loc[daily_sales['SALES'].idxmax()]\n",
    "\n",
    "# Output the results\n",
    "print(\"Weekly Sales Summary:\")\n",
    "print(weekly_sales)\n",
    "print(\"\\nWeek with Highest Sales:\")\n",
    "print(f\"Week: {highest_sales_week['WEEK']}, Sales: {highest_sales_week['SALES']}\")\n",
    "\n",
    "print(\"\\nDaily Sales Summary:\")\n",
    "print(daily_sales)\n",
    "print(\"\\nDay with Highest Sales:\")\n",
    "print(f\"Day: {highest_sales_day['DAY_OF_WEEK']}, Sales: {highest_sales_day['SALES']}\")"
   ]
  },
  {
   "cell_type": "markdown",
   "metadata": {},
   "source": [
    "### Working on Given Dataset2 (Cost_of_Goods) and Dataset3 (Product_sales_order)"
   ]
  },
  {
   "cell_type": "code",
   "execution_count": 62,
   "metadata": {},
   "outputs": [
    {
     "data": {
      "text/html": [
       "<div>\n",
       "<style scoped>\n",
       "    .dataframe tbody tr th:only-of-type {\n",
       "        vertical-align: middle;\n",
       "    }\n",
       "\n",
       "    .dataframe tbody tr th {\n",
       "        vertical-align: top;\n",
       "    }\n",
       "\n",
       "    .dataframe thead th {\n",
       "        text-align: right;\n",
       "    }\n",
       "</style>\n",
       "<table border=\"1\" class=\"dataframe\">\n",
       "  <thead>\n",
       "    <tr style=\"text-align: right;\">\n",
       "      <th></th>\n",
       "      <th>product_id</th>\n",
       "      <th>purchase_price</th>\n",
       "      <th>selling_price</th>\n",
       "      <th>Margin_Percent</th>\n",
       "      <th>Gross_Profit</th>\n",
       "      <th>Flagged</th>\n",
       "    </tr>\n",
       "  </thead>\n",
       "  <tbody>\n",
       "    <tr>\n",
       "      <th>0</th>\n",
       "      <td>415</td>\n",
       "      <td>270.56</td>\n",
       "      <td>281.75</td>\n",
       "      <td>3.971606</td>\n",
       "      <td>11.19</td>\n",
       "      <td>False</td>\n",
       "    </tr>\n",
       "    <tr>\n",
       "      <th>1</th>\n",
       "      <td>3495</td>\n",
       "      <td>20.01</td>\n",
       "      <td>21.75</td>\n",
       "      <td>8.000000</td>\n",
       "      <td>1.74</td>\n",
       "      <td>False</td>\n",
       "    </tr>\n",
       "    <tr>\n",
       "      <th>2</th>\n",
       "      <td>152</td>\n",
       "      <td>205.08</td>\n",
       "      <td>212.25</td>\n",
       "      <td>3.378092</td>\n",
       "      <td>7.17</td>\n",
       "      <td>False</td>\n",
       "    </tr>\n",
       "    <tr>\n",
       "      <th>3</th>\n",
       "      <td>72</td>\n",
       "      <td>508.79</td>\n",
       "      <td>540.75</td>\n",
       "      <td>5.910310</td>\n",
       "      <td>31.96</td>\n",
       "      <td>False</td>\n",
       "    </tr>\n",
       "    <tr>\n",
       "      <th>4</th>\n",
       "      <td>974</td>\n",
       "      <td>134.01</td>\n",
       "      <td>144.25</td>\n",
       "      <td>7.098787</td>\n",
       "      <td>10.24</td>\n",
       "      <td>False</td>\n",
       "    </tr>\n",
       "  </tbody>\n",
       "</table>\n",
       "</div>"
      ],
      "text/plain": [
       "   product_id  purchase_price  selling_price  Margin_Percent  Gross_Profit  \\\n",
       "0         415          270.56         281.75        3.971606         11.19   \n",
       "1        3495           20.01          21.75        8.000000          1.74   \n",
       "2         152          205.08         212.25        3.378092          7.17   \n",
       "3          72          508.79         540.75        5.910310         31.96   \n",
       "4         974          134.01         144.25        7.098787         10.24   \n",
       "\n",
       "   Flagged  \n",
       "0    False  \n",
       "1    False  \n",
       "2    False  \n",
       "3    False  \n",
       "4    False  "
      ]
     },
     "execution_count": 62,
     "metadata": {},
     "output_type": "execute_result"
    }
   ],
   "source": [
    "#Dataset2 (Cost_of_Goods)\n",
    "Cogs.head()"
   ]
  },
  {
   "cell_type": "code",
   "execution_count": 63,
   "metadata": {},
   "outputs": [
    {
     "data": {
      "text/html": [
       "<div>\n",
       "<style scoped>\n",
       "    .dataframe tbody tr th:only-of-type {\n",
       "        vertical-align: middle;\n",
       "    }\n",
       "\n",
       "    .dataframe tbody tr th {\n",
       "        vertical-align: top;\n",
       "    }\n",
       "\n",
       "    .dataframe thead th {\n",
       "        text-align: right;\n",
       "    }\n",
       "</style>\n",
       "<table border=\"1\" class=\"dataframe\">\n",
       "  <thead>\n",
       "    <tr style=\"text-align: right;\">\n",
       "      <th></th>\n",
       "      <th>PRODUCT_SALES_ORDER_ID</th>\n",
       "      <th>SALES_ORDER_ID</th>\n",
       "      <th>PRODUCT_ID</th>\n",
       "      <th>SALES</th>\n",
       "    </tr>\n",
       "  </thead>\n",
       "  <tbody>\n",
       "    <tr>\n",
       "      <th>0</th>\n",
       "      <td>68097611</td>\n",
       "      <td>6460123</td>\n",
       "      <td>2438</td>\n",
       "      <td>390.00</td>\n",
       "    </tr>\n",
       "    <tr>\n",
       "      <th>1</th>\n",
       "      <td>68009163</td>\n",
       "      <td>6448262</td>\n",
       "      <td>1087</td>\n",
       "      <td>122.25</td>\n",
       "    </tr>\n",
       "    <tr>\n",
       "      <th>2</th>\n",
       "      <td>68097089</td>\n",
       "      <td>6460054</td>\n",
       "      <td>142</td>\n",
       "      <td>166.32</td>\n",
       "    </tr>\n",
       "    <tr>\n",
       "      <th>3</th>\n",
       "      <td>68060918</td>\n",
       "      <td>6455556</td>\n",
       "      <td>415</td>\n",
       "      <td>226.50</td>\n",
       "    </tr>\n",
       "    <tr>\n",
       "      <th>4</th>\n",
       "      <td>68144928</td>\n",
       "      <td>6466586</td>\n",
       "      <td>361</td>\n",
       "      <td>336.00</td>\n",
       "    </tr>\n",
       "  </tbody>\n",
       "</table>\n",
       "</div>"
      ],
      "text/plain": [
       "   PRODUCT_SALES_ORDER_ID  SALES_ORDER_ID  PRODUCT_ID   SALES\n",
       "0                68097611         6460123        2438  390.00\n",
       "1                68009163         6448262        1087  122.25\n",
       "2                68097089         6460054         142  166.32\n",
       "3                68060918         6455556         415  226.50\n",
       "4                68144928         6466586         361  336.00"
      ]
     },
     "execution_count": 63,
     "metadata": {},
     "output_type": "execute_result"
    }
   ],
   "source": [
    "#Dataset3 (Product_sales_order)\n",
    "product.head()"
   ]
  },
  {
   "cell_type": "markdown",
   "metadata": {},
   "source": [
    "#### Q5 → Calculate the margin percentage per product."
   ]
  },
  {
   "cell_type": "code",
   "execution_count": 64,
   "metadata": {},
   "outputs": [
    {
     "data": {
      "text/html": [
       "<div>\n",
       "<style scoped>\n",
       "    .dataframe tbody tr th:only-of-type {\n",
       "        vertical-align: middle;\n",
       "    }\n",
       "\n",
       "    .dataframe tbody tr th {\n",
       "        vertical-align: top;\n",
       "    }\n",
       "\n",
       "    .dataframe thead th {\n",
       "        text-align: right;\n",
       "    }\n",
       "</style>\n",
       "<table border=\"1\" class=\"dataframe\">\n",
       "  <thead>\n",
       "    <tr style=\"text-align: right;\">\n",
       "      <th></th>\n",
       "      <th>product_id</th>\n",
       "      <th>purchase_price</th>\n",
       "      <th>selling_price</th>\n",
       "      <th>Margin_Percent</th>\n",
       "      <th>Gross_Profit</th>\n",
       "      <th>Flagged</th>\n",
       "    </tr>\n",
       "  </thead>\n",
       "  <tbody>\n",
       "    <tr>\n",
       "      <th>0</th>\n",
       "      <td>415</td>\n",
       "      <td>270.56</td>\n",
       "      <td>281.75</td>\n",
       "      <td>3.971606</td>\n",
       "      <td>11.19</td>\n",
       "      <td>False</td>\n",
       "    </tr>\n",
       "    <tr>\n",
       "      <th>1</th>\n",
       "      <td>3495</td>\n",
       "      <td>20.01</td>\n",
       "      <td>21.75</td>\n",
       "      <td>8.000000</td>\n",
       "      <td>1.74</td>\n",
       "      <td>False</td>\n",
       "    </tr>\n",
       "    <tr>\n",
       "      <th>2</th>\n",
       "      <td>152</td>\n",
       "      <td>205.08</td>\n",
       "      <td>212.25</td>\n",
       "      <td>3.378092</td>\n",
       "      <td>7.17</td>\n",
       "      <td>False</td>\n",
       "    </tr>\n",
       "    <tr>\n",
       "      <th>3</th>\n",
       "      <td>72</td>\n",
       "      <td>508.79</td>\n",
       "      <td>540.75</td>\n",
       "      <td>5.910310</td>\n",
       "      <td>31.96</td>\n",
       "      <td>False</td>\n",
       "    </tr>\n",
       "    <tr>\n",
       "      <th>4</th>\n",
       "      <td>974</td>\n",
       "      <td>134.01</td>\n",
       "      <td>144.25</td>\n",
       "      <td>7.098787</td>\n",
       "      <td>10.24</td>\n",
       "      <td>False</td>\n",
       "    </tr>\n",
       "  </tbody>\n",
       "</table>\n",
       "</div>"
      ],
      "text/plain": [
       "   product_id  purchase_price  selling_price  Margin_Percent  Gross_Profit  \\\n",
       "0         415          270.56         281.75        3.971606         11.19   \n",
       "1        3495           20.01          21.75        8.000000          1.74   \n",
       "2         152          205.08         212.25        3.378092          7.17   \n",
       "3          72          508.79         540.75        5.910310         31.96   \n",
       "4         974          134.01         144.25        7.098787         10.24   \n",
       "\n",
       "   Flagged  \n",
       "0    False  \n",
       "1    False  \n",
       "2    False  \n",
       "3    False  \n",
       "4    False  "
      ]
     },
     "execution_count": 64,
     "metadata": {},
     "output_type": "execute_result"
    }
   ],
   "source": [
    "#Margin Percentage equal ( (Selling Price - Cost Price) / Selling Price ) * 100\n",
    "\n",
    "#Cost Price is the same to purchase price\n",
    "\n",
    "#Create a Margin Percentage Column\n",
    "Cogs['Margin_Percent'] = ((Cogs['selling_price'] - Cogs['purchase_price']) / Cogs['selling_price']) * 100\n",
    "\n",
    "Cogs.head()"
   ]
  },
  {
   "cell_type": "markdown",
   "metadata": {},
   "source": [
    "#### Q6 → Calculate the gross profit per product."
   ]
  },
  {
   "cell_type": "code",
   "execution_count": 65,
   "metadata": {},
   "outputs": [
    {
     "data": {
      "text/html": [
       "<div>\n",
       "<style scoped>\n",
       "    .dataframe tbody tr th:only-of-type {\n",
       "        vertical-align: middle;\n",
       "    }\n",
       "\n",
       "    .dataframe tbody tr th {\n",
       "        vertical-align: top;\n",
       "    }\n",
       "\n",
       "    .dataframe thead th {\n",
       "        text-align: right;\n",
       "    }\n",
       "</style>\n",
       "<table border=\"1\" class=\"dataframe\">\n",
       "  <thead>\n",
       "    <tr style=\"text-align: right;\">\n",
       "      <th></th>\n",
       "      <th>product_id</th>\n",
       "      <th>purchase_price</th>\n",
       "      <th>selling_price</th>\n",
       "      <th>Margin_Percent</th>\n",
       "      <th>Gross_Profit</th>\n",
       "      <th>Flagged</th>\n",
       "    </tr>\n",
       "  </thead>\n",
       "  <tbody>\n",
       "    <tr>\n",
       "      <th>0</th>\n",
       "      <td>415</td>\n",
       "      <td>270.56</td>\n",
       "      <td>281.75</td>\n",
       "      <td>3.971606</td>\n",
       "      <td>11.19</td>\n",
       "      <td>False</td>\n",
       "    </tr>\n",
       "    <tr>\n",
       "      <th>1</th>\n",
       "      <td>3495</td>\n",
       "      <td>20.01</td>\n",
       "      <td>21.75</td>\n",
       "      <td>8.000000</td>\n",
       "      <td>1.74</td>\n",
       "      <td>False</td>\n",
       "    </tr>\n",
       "    <tr>\n",
       "      <th>2</th>\n",
       "      <td>152</td>\n",
       "      <td>205.08</td>\n",
       "      <td>212.25</td>\n",
       "      <td>3.378092</td>\n",
       "      <td>7.17</td>\n",
       "      <td>False</td>\n",
       "    </tr>\n",
       "    <tr>\n",
       "      <th>3</th>\n",
       "      <td>72</td>\n",
       "      <td>508.79</td>\n",
       "      <td>540.75</td>\n",
       "      <td>5.910310</td>\n",
       "      <td>31.96</td>\n",
       "      <td>False</td>\n",
       "    </tr>\n",
       "    <tr>\n",
       "      <th>4</th>\n",
       "      <td>974</td>\n",
       "      <td>134.01</td>\n",
       "      <td>144.25</td>\n",
       "      <td>7.098787</td>\n",
       "      <td>10.24</td>\n",
       "      <td>False</td>\n",
       "    </tr>\n",
       "  </tbody>\n",
       "</table>\n",
       "</div>"
      ],
      "text/plain": [
       "   product_id  purchase_price  selling_price  Margin_Percent  Gross_Profit  \\\n",
       "0         415          270.56         281.75        3.971606         11.19   \n",
       "1        3495           20.01          21.75        8.000000          1.74   \n",
       "2         152          205.08         212.25        3.378092          7.17   \n",
       "3          72          508.79         540.75        5.910310         31.96   \n",
       "4         974          134.01         144.25        7.098787         10.24   \n",
       "\n",
       "   Flagged  \n",
       "0    False  \n",
       "1    False  \n",
       "2    False  \n",
       "3    False  \n",
       "4    False  "
      ]
     },
     "execution_count": 65,
     "metadata": {},
     "output_type": "execute_result"
    }
   ],
   "source": [
    "#Gross Profit Equal (Selling Price - Cost Price)\n",
    "\n",
    "#Create a Column For Gross Profit\n",
    "Cogs['Gross_Profit'] = Cogs['selling_price'] - Cogs['purchase_price']\n",
    "\n",
    "Cogs.head()"
   ]
  },
  {
   "cell_type": "markdown",
   "metadata": {},
   "source": [
    "#### Q7 → What are the top 3 and bottom 3 products in terms of gross profit."
   ]
  },
  {
   "cell_type": "code",
   "execution_count": 66,
   "metadata": {},
   "outputs": [],
   "source": [
    "#Sort the data by [Gross_Profit]\n",
    "Cogs_Sorted = Cogs.sort_values(by='Gross_Profit', ascending=False)"
   ]
  },
  {
   "cell_type": "code",
   "execution_count": 67,
   "metadata": {},
   "outputs": [
    {
     "data": {
      "text/html": [
       "<div>\n",
       "<style scoped>\n",
       "    .dataframe tbody tr th:only-of-type {\n",
       "        vertical-align: middle;\n",
       "    }\n",
       "\n",
       "    .dataframe tbody tr th {\n",
       "        vertical-align: top;\n",
       "    }\n",
       "\n",
       "    .dataframe thead th {\n",
       "        text-align: right;\n",
       "    }\n",
       "</style>\n",
       "<table border=\"1\" class=\"dataframe\">\n",
       "  <thead>\n",
       "    <tr style=\"text-align: right;\">\n",
       "      <th></th>\n",
       "      <th>product_id</th>\n",
       "      <th>purchase_price</th>\n",
       "      <th>selling_price</th>\n",
       "      <th>Margin_Percent</th>\n",
       "      <th>Gross_Profit</th>\n",
       "      <th>Flagged</th>\n",
       "    </tr>\n",
       "  </thead>\n",
       "  <tbody>\n",
       "    <tr>\n",
       "      <th>6</th>\n",
       "      <td>3900</td>\n",
       "      <td>501.99</td>\n",
       "      <td>557.75</td>\n",
       "      <td>9.997311</td>\n",
       "      <td>55.76</td>\n",
       "      <td>False</td>\n",
       "    </tr>\n",
       "    <tr>\n",
       "      <th>3</th>\n",
       "      <td>72</td>\n",
       "      <td>508.79</td>\n",
       "      <td>540.75</td>\n",
       "      <td>5.910310</td>\n",
       "      <td>31.96</td>\n",
       "      <td>False</td>\n",
       "    </tr>\n",
       "    <tr>\n",
       "      <th>24</th>\n",
       "      <td>9289</td>\n",
       "      <td>388.80</td>\n",
       "      <td>408.25</td>\n",
       "      <td>4.764238</td>\n",
       "      <td>19.45</td>\n",
       "      <td>False</td>\n",
       "    </tr>\n",
       "  </tbody>\n",
       "</table>\n",
       "</div>"
      ],
      "text/plain": [
       "    product_id  purchase_price  selling_price  Margin_Percent  Gross_Profit  \\\n",
       "6         3900          501.99         557.75        9.997311         55.76   \n",
       "3           72          508.79         540.75        5.910310         31.96   \n",
       "24        9289          388.80         408.25        4.764238         19.45   \n",
       "\n",
       "    Flagged  \n",
       "6     False  \n",
       "3     False  \n",
       "24    False  "
      ]
     },
     "execution_count": 67,
     "metadata": {},
     "output_type": "execute_result"
    }
   ],
   "source": [
    "#Get The Top 3 Products in Terms of Gross Profit\n",
    "Cogs_Sorted.head(3)"
   ]
  },
  {
   "cell_type": "code",
   "execution_count": 68,
   "metadata": {},
   "outputs": [
    {
     "data": {
      "text/html": [
       "<div>\n",
       "<style scoped>\n",
       "    .dataframe tbody tr th:only-of-type {\n",
       "        vertical-align: middle;\n",
       "    }\n",
       "\n",
       "    .dataframe tbody tr th {\n",
       "        vertical-align: top;\n",
       "    }\n",
       "\n",
       "    .dataframe thead th {\n",
       "        text-align: right;\n",
       "    }\n",
       "</style>\n",
       "<table border=\"1\" class=\"dataframe\">\n",
       "  <thead>\n",
       "    <tr style=\"text-align: right;\">\n",
       "      <th></th>\n",
       "      <th>product_id</th>\n",
       "      <th>purchase_price</th>\n",
       "      <th>selling_price</th>\n",
       "      <th>Margin_Percent</th>\n",
       "      <th>Gross_Profit</th>\n",
       "      <th>Flagged</th>\n",
       "    </tr>\n",
       "  </thead>\n",
       "  <tbody>\n",
       "    <tr>\n",
       "      <th>1</th>\n",
       "      <td>3495</td>\n",
       "      <td>2.001000e+01</td>\n",
       "      <td>21.75</td>\n",
       "      <td>8.000000e+00</td>\n",
       "      <td>1.74</td>\n",
       "      <td>False</td>\n",
       "    </tr>\n",
       "    <tr>\n",
       "      <th>7</th>\n",
       "      <td>361</td>\n",
       "      <td>2.000000e+02</td>\n",
       "      <td>189.75</td>\n",
       "      <td>-5.401845e+00</td>\n",
       "      <td>-10.25</td>\n",
       "      <td>False</td>\n",
       "    </tr>\n",
       "    <tr>\n",
       "      <th>15</th>\n",
       "      <td>168</td>\n",
       "      <td>1.000000e+08</td>\n",
       "      <td>68.50</td>\n",
       "      <td>-1.459853e+08</td>\n",
       "      <td>-99999931.50</td>\n",
       "      <td>False</td>\n",
       "    </tr>\n",
       "  </tbody>\n",
       "</table>\n",
       "</div>"
      ],
      "text/plain": [
       "    product_id  purchase_price  selling_price  Margin_Percent  Gross_Profit  \\\n",
       "1         3495    2.001000e+01          21.75    8.000000e+00          1.74   \n",
       "7          361    2.000000e+02         189.75   -5.401845e+00        -10.25   \n",
       "15         168    1.000000e+08          68.50   -1.459853e+08  -99999931.50   \n",
       "\n",
       "    Flagged  \n",
       "1     False  \n",
       "7     False  \n",
       "15    False  "
      ]
     },
     "execution_count": 68,
     "metadata": {},
     "output_type": "execute_result"
    }
   ],
   "source": [
    "#Get The Bottom 3 Products in Terms of Gross Profit\n",
    "Cogs_Sorted.tail(3)"
   ]
  },
  {
   "cell_type": "markdown",
   "metadata": {},
   "source": [
    "#### Q8 → State your recommendations for how we could further increase our gross profit."
   ]
  },
  {
   "cell_type": "markdown",
   "metadata": {},
   "source": [
    "### Recommendations!"
   ]
  },
  {
   "cell_type": "markdown",
   "metadata": {},
   "source": [
    "1. Increase Sales Volume of High Gross Profit Products:\n",
    "Focus marketing and sales efforts on products with the highest gross profit. This can be done through targeted promotions, bundling products, or increasing their visibility.\n",
    "\n",
    "2. Price Optimization:\n",
    "Focus On products with lower margins but high sales volume like ptoduct(1222).\n",
    "\n",
    "3. Cost Reduction:\n",
    "Negotiate better purchase prices with suppliers for products with lower margins. Even a small reduction in purchase price can significantly increase the margin and gross profit."
   ]
  },
  {
   "cell_type": "markdown",
   "metadata": {},
   "source": [
    "### SQL Section "
   ]
  },
  {
   "cell_type": "markdown",
   "metadata": {},
   "source": [
    "#### Q9 → If the 3 datasets (Sales_orders, Cost_of_Goods & Product_sales_order) were tables in database, write a simple SQL query to create 1 table that has the total number of unique delivered products and the total number of unique canceled products per day for the first week and create a flag that is equal to 1 if that day had more than than 5 unique products delivered and 0 else wise. Also make sure your answer doesn't contain fully duplicated rows"
   ]
  },
  {
   "cell_type": "markdown",
   "metadata": {},
   "source": [
    "### SQL Query Commands"
   ]
  },
  {
   "cell_type": "markdown",
   "metadata": {},
   "source": [
    "WITH CombinedData AS (\n",
    "    SELECT \n",
    "        so.ORDER_ID, \n",
    "        so.DATE,\n",
    "        pso.product_id,\n",
    "        so.Order_status\n",
    "    FROM \n",
    "        Sales_orders AS so\n",
    "    JOIN \n",
    "        Product_sales_order AS pso\n",
    "    ON \n",
    "        pso.SALES_ORDER_ID = so.ORDER_ID\n",
    "    WHERE \n",
    "        so.DATE BETWEEN '2023-10-01' AND '2023-10-07'\n",
    "),\n",
    "UniqueDelivered AS (\n",
    "    SELECT \n",
    "        DATE,\n",
    "        COUNT(DISTINCT product_id) AS unique_delivered\n",
    "    FROM \n",
    "        CombinedData\n",
    "    WHERE \n",
    "        Order_status = 'Delivered'\n",
    "    GROUP BY \n",
    "        DATE\n",
    "),\n",
    "UniqueCanceled AS (\n",
    "    SELECT \n",
    "        DATE,\n",
    "        COUNT(DISTINCT product_id) AS unique_canceled\n",
    "    FROM \n",
    "        CombinedData\n",
    "    WHERE \n",
    "        Order_status = 'Canceled'\n",
    "    GROUP BY \n",
    "        DATE\n",
    ")\n",
    "SELECT \n",
    "    ud.DATE,\n",
    "    ud.unique_delivered,\n",
    "    uc.unique_canceled,\n",
    "    CASE \n",
    "        WHEN ud.unique_delivered > 5 THEN 1 \n",
    "        ELSE 0 \n",
    "    END AS flag\n",
    "FROM \n",
    "    UniqueDelivered AS ud\n",
    "LEFT JOIN \n",
    "    UniqueCanceled AS uc\n",
    "ON \n",
    "    ud.DATE = uc.DATE\n",
    "ORDER BY \n",
    "    ud.DATE;\n"
   ]
  }
 ],
 "metadata": {
  "kernelspec": {
   "display_name": "Python 3",
   "language": "python",
   "name": "python3"
  },
  "language_info": {
   "codemirror_mode": {
    "name": "ipython",
    "version": 3
   },
   "file_extension": ".py",
   "mimetype": "text/x-python",
   "name": "python",
   "nbconvert_exporter": "python",
   "pygments_lexer": "ipython3",
   "version": "3.11.undefined"
  }
 },
 "nbformat": 4,
 "nbformat_minor": 2
}
